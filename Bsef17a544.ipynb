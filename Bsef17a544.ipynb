{
 "cells": [
  {
   "cell_type": "markdown",
   "metadata": {},
   "source": [
    "# Assignment 1 (submission till : 12/10/2020, 13:00 hrs)\n",
    "\n",
    "#### Submission Guidelines\n",
    "\n",
    "Rename the .ipynb file with your roll number, like BSEF17M501.ipynb. The assignment will not be marked otherwise.\n",
    "\n",
    "Only assignments submitted through github and before the deadline will be accepted. \n"
   ]
  },
  {
   "cell_type": "markdown",
   "metadata": {},
   "source": [
    "#### Excercise 1: Help me with the attendance marking\n",
    "\n",
    "I have provided you a text file `21-09-2020.txt`, that contains the chat during the class. I want you to take out the roll numbers and then return a list of roll numbers in sorted."
   ]
  },
  {
   "cell_type": "code",
   "execution_count": 8,
   "metadata": {},
   "outputs": [
    {
     "name": "stdout",
     "output_type": "stream",
     "text": [
      "Unique sorted roll nums:\n",
      "['bsef17a501', 'bsef17a502', 'bsef17a506', 'bsef17a508', 'bsef17a509', 'bsef17a510', 'bsef17a511', 'bsef17a514', 'bsef17a517', 'bsef17a520', 'bsef17a522', 'bsef17a527', 'bsef17a529', 'bsef17a530', 'bsef17a531', 'bsef17a532', 'bsef17a533', 'bsef17a534', 'bsef17a535', 'bsef17a537', 'bsef17a548', 'bsef17a558', 'bsef17a559', 'bsef17m501', 'bsef17m502', 'bsef17m503', 'bsef17m507', 'bsef17m508', 'bsef17m509', 'bsef17m510', 'bsef17m511', 'bsef17m515', 'bsef17m516', 'bsef17m517', 'bsef17m518', 'bsef17m519', 'bsef17m520', 'bsef17m522', 'bsef17m524', 'bsef17m526', 'bsef17m527', 'bsef17m530', 'bsef17m531', 'bsef17m533', 'bsef17m534', 'bsef17m535', 'bsef17m537', 'bsef17m538', 'bsef17m541', 'bsef17m542', 'bsef17m544', 'bsef17m545', 'bsef17m552', 'bsef17m557']\n"
     ]
    }
   ],
   "source": [
    "file = open ('21-09-20.txt',encoding=\"utf8\")\n",
    "increment = 0\n",
    "rollno_list=[]\n",
    "\n",
    "while True:\n",
    "    increment += 1\n",
    "    orgline = line = file.readline() \n",
    "    \n",
    "    line = line.lower()\n",
    "\n",
    "    if 'bsef17' in line:\n",
    "    \n",
    "        start=line.find('bsef17')\n",
    "        line=line[start:start+10]\n",
    "    \n",
    "        if line.isalnum(): # other than alphabets and numbers\n",
    "            rollno_list.append(line)\n",
    "    \n",
    "    if not orgline: \n",
    "         break\n",
    "\n",
    "rollno_list = list (set(rollno_list)) # for removing repeated strings in list\n",
    "print('Unique sorted roll nums:')\n",
    "print (sorted(rollno_list, key=lambda item: (int(item.partition(' ')[0]) if item[0].isdigit() else float('inf'), item)) )\n",
    "file.close() "
   ]
  },
  {
   "cell_type": "markdown",
   "metadata": {},
   "source": [
    "#### Exercise 2: Hex output\n",
    "\n",
    "Define hex_output (function).\n",
    "Ask the user to enter a valid hexadecimal\n",
    "number (as a string), and print the decimal equivalent."
   ]
  },
  {
   "cell_type": "code",
   "execution_count": null,
   "metadata": {},
   "outputs": [],
   "source": [
    "#Hex_output Function: \n",
    "# The hex() function in python language converts an integer number to its corresponding hexadecimal string. It takes a single argument in its function.\n",
    "# Its syntax is: \n",
    "#   hex( variable )\n",
    "# This 'variable' is an integer number (int object). It returns a hexadecimal string."
   ]
  },
  {
   "cell_type": "code",
   "execution_count": 2,
   "metadata": {},
   "outputs": [
    {
     "name": "stdout",
     "output_type": "stream",
     "text": [
      "Enter your value: afg\n",
      "Invalid! Enter hexdecimal as input\n",
      "Enter your value: af5\n",
      "2805\n"
     ]
    }
   ],
   "source": [
    "import string\n",
    "while True:\n",
    "    str = input(\"Enter your value: \")\n",
    "    if all(ch in string.hexdigits for ch in str):\n",
    "        hex_num = int(str, 16)\n",
    "        print (hex_num)\n",
    "        break\n",
    "    else:\n",
    "        print('Invalid! Enter hexdecimal as input')"
   ]
  },
  {
   "cell_type": "markdown",
   "metadata": {},
   "source": [
    "#### Exercise 3: Pig Latin sentence\n",
    "\n",
    "Pig Latin (http://mng.bz/YrON) is a common children’s “secret” language in Englishspeaking countries. (It’s normally secret among children who forget that their parents were once children themselves.) The rules for translating words from English into Pig Latin are quite simple:\n",
    "- If the word begins with a vowel (a, e, i, o, or u), add “way” to the end of the word. So “air” becomes “airway” and “eat” becomes “eatway.”\n",
    "- If the word begins with any other letter, then we take the first letter, put it onthe end of the word, and then add “ay.” Thus, “python” becomes “ythonpay” and “computer” becomes “omputercay.”\n",
    "\n",
    "Write a function, pl_sentence, that takes a string\n",
    "argument. This string should be treated as a sentence\n",
    "(without capitals, and without punctuation).\n",
    "\n",
    "The function should return a string in which each word\n",
    "has been translated into Pig Latin."
   ]
  },
  {
   "cell_type": "code",
   "execution_count": 3,
   "metadata": {},
   "outputs": [
    {
     "name": "stdout",
     "output_type": "stream",
     "text": [
      "Enter your value: iqra jamil,\n"
     ]
    }
   ],
   "source": [
    "str = input(\"Enter your value: \")"
   ]
  },
  {
   "cell_type": "code",
   "execution_count": 4,
   "metadata": {},
   "outputs": [],
   "source": [
    "def pl_sentence(str):\n",
    "    str = str.lower()\n",
    "    punct_marks = '''!()-[]{};:'\"\\,<>./?@#$%^&*_~'''\n",
    "    newstr = \"\"\n",
    "    for ch in str:\n",
    "        if ch not in punct_marks:\n",
    "            newstr = newstr + ch # removing punctuation marks\n",
    "    words = newstr.split()\n",
    "    res_word=\"\"\n",
    "    for word in words:\n",
    "        if word[0] in ['a','e','i','o','u']:\n",
    "            word = word+'way'\n",
    "            res_word= res_word + word + ' '\n",
    "        else:\n",
    "            f_letter = word[0]\n",
    "            word = word[1:] + f_letter + 'ay'\n",
    "            res_word= res_word + word + ' '\n",
    "    return res_word"
   ]
  },
  {
   "cell_type": "code",
   "execution_count": 5,
   "metadata": {},
   "outputs": [
    {
     "name": "stdout",
     "output_type": "stream",
     "text": [
      "Original string: iqra jamil,\n",
      "Result: iqraway amiljay \n"
     ]
    }
   ],
   "source": [
    "print ('Original string: ' + str)\n",
    "print ('Result: ' + pl_sentence(str))"
   ]
  },
  {
   "cell_type": "markdown",
   "metadata": {},
   "source": [
    "#### Exercise 4: Alphabetize names\n",
    "\n",
    "Takes a list of dicts describing people, each with first/last/email\n",
    "as keys. Return a new list of dicts, sorted first by last name\n",
    "and then by first name.\n",
    "\n",
    "If passed an empty list, then return an empty list."
   ]
  },
  {
   "cell_type": "code",
   "execution_count": 6,
   "metadata": {},
   "outputs": [],
   "source": [
    "PEOPLE = [{'first': 'Reuven', 'last': 'Lerner',\n",
    "           'email': 'reuven@lerner.co.il'},\n",
    "          {'first': 'Donald', 'last': 'Trump',\n",
    "           'email': 'president@whitehouse.gov'},\n",
    "          {'first': 'Vladimir', 'last': 'Putin',\n",
    "           'email': 'president@kremvax.ru'}\n",
    "          ]\n"
   ]
  },
  {
   "cell_type": "code",
   "execution_count": 7,
   "metadata": {},
   "outputs": [
    {
     "name": "stdout",
     "output_type": "stream",
     "text": [
      "[{'first': 'Donald', 'last': 'Trump', 'email': 'president@whitehouse.gov'}, {'first': 'Reuven', 'last': 'Lerner', 'email': 'reuven@lerner.co.il'}, {'first': 'Vladimir', 'last': 'Putin', 'email': 'president@kremvax.ru'}]\n",
      "[{'first': 'Reuven', 'last': 'Lerner', 'email': 'reuven@lerner.co.il'}, {'first': 'Vladimir', 'last': 'Putin', 'email': 'president@kremvax.ru'}, {'first': 'Donald', 'last': 'Trump', 'email': 'president@whitehouse.gov'}]\n"
     ]
    }
   ],
   "source": [
    "dict_list=[{}]\n",
    "if not PEOPLE:\n",
    "    print (dict_list) \n",
    "else:\n",
    "    dict_list = sorted (PEOPLE, key=lambda w: w['first']) \n",
    "    print (dict_list)\n",
    "    dict_list = sorted (PEOPLE, key=lambda w: w['last']) \n",
    "    print (dict_list)"
   ]
  },
  {
   "cell_type": "markdown",
   "metadata": {},
   "source": [
    "#### Exercise 5: Most repeating letters\n",
    "\n",
    "Write a function, most_repeating_word, which takes a list of strings.\n",
    "It should return the word that has the greatest number of repeated \n",
    "letters."
   ]
  },
  {
   "cell_type": "code",
   "execution_count": 11,
   "metadata": {},
   "outputs": [],
   "source": [
    "WORDS = ['this', 'is', 'an', 'elementary', 'test', 'example']\n",
    "    \n",
    "# this - 0\n",
    "# is - 0\n",
    "# an - 0\n",
    "# elementary - e 3\n",
    "# test - 2\n",
    "# example - 2"
   ]
  },
  {
   "cell_type": "code",
   "execution_count": 12,
   "metadata": {},
   "outputs": [],
   "source": [
    "def most_repeating_word(WORDS):\n",
    "    check= False\n",
    "    for word in WORDS:\n",
    "        for ch in word:\n",
    "            num=word.count(ch)\n",
    "            if num>save_num:\n",
    "                sv_num=num\n",
    "                sv_ch=ch\n",
    "                check=True;\n",
    "        if check is True:\n",
    "            sv_numlist.append(sv_num)\n",
    "            sv_chlist.append(sv_ch)\n",
    "        else:\n",
    "            sv_numlist.append(0)\n",
    "            sv_chlist.append(0)\n",
    "    print('Most repeated elements in each word correspondingly:')     \n",
    "    print(sv_chlist, sv_numlist)\n",
    "    m = max(sv_numlist)\n",
    "    indexlist=[i for i, j in enumerate(sv_numlist) if j == m] # all words in list having same repeated values\n",
    "    res_list=[]\n",
    "    for i in indexlist: \n",
    "        res_list.append(WORDS[i])\n",
    "    return res_list"
   ]
  },
  {
   "cell_type": "code",
   "execution_count": 13,
   "metadata": {},
   "outputs": [
    {
     "name": "stdout",
     "output_type": "stream",
     "text": [
      "Most repeated elements in each word correspondingly:\n",
      "[0, 0, 0, 'e', 't', 'e'] [0, 0, 0, 3, 2, 2]\n",
      "All words with most repitition : ['elementary']\n"
     ]
    }
   ],
   "source": [
    "num = 0\n",
    "save_num = 1\n",
    "sv_numlist=[]\n",
    "sv_chlist=[]\n",
    "\n",
    "res_list = most_repeating_word(WORDS)\n",
    "print('All words with most repitition :', res_list)"
   ]
  },
  {
   "cell_type": "markdown",
   "metadata": {},
   "source": [
    "#### Exercise 6: Dictdiff\n",
    "\n",
    "Write a function, `dictdiff`, that accepts two dicts as arguments.\n",
    "\n",
    "It returns a dict describing the differences between the two arguments.\n",
    "\n",
    "Each key-value pair in the returned dict represents a difference. Each\n",
    "difference consists of a key and a two-element list, indicating the\n",
    "values from the two input dicts.  If a key exists in one dict but not\n",
    "another, then the corresponding value will be `None`.\n",
    "\n",
    "Example:\n",
    "\n",
    "d1 = {'a':1, 'b':2, 'c':3}\n",
    "d2 = {'a':1, 'b':2, 'd':4}\n",
    "d3 = {'a':1, 'b':3, 'd':5}\n",
    "\n",
    "print(dictdiff(d1, d2))\n",
    "\n",
    "output: {'c':[3, None], 'd':[None, 4]}\n",
    "\n",
    "print(dictdiff(d2, d3))\n",
    "\n",
    "output: {'b':[2,3], 'd':[4,5]}\n"
   ]
  },
  {
   "cell_type": "code",
   "execution_count": 14,
   "metadata": {},
   "outputs": [],
   "source": [
    "d1 = {'a':1, 'b':2, 'c':3}\n",
    "d2 = {'a':1, 'b':2, 'd':4} \n",
    "d3 = {'a':1, 'b':3, 'd':5}"
   ]
  },
  {
   "cell_type": "code",
   "execution_count": 15,
   "metadata": {},
   "outputs": [],
   "source": [
    "def dictdiff(d1, d2):\n",
    "    res_dict={}\n",
    "    for key in d1.keys():\n",
    "        if key in d2.keys():\n",
    "            if d1.get(key) != d2.get(key):\n",
    "                list_dict=[d1.get(key),d2.get(key)]\n",
    "                res_dict.update({key:list_dict})\n",
    "        else:\n",
    "            list_dict=[d1.get(key),'None']\n",
    "            res_dict.update({key:list_dict})\n",
    "        \n",
    "    for key in d2.keys():\n",
    "        if key not in d1.keys():\n",
    "            list_dict=['None',d2.get(key)]\n",
    "            res_dict.update({key:list_dict})\n",
    "\n",
    "    return res_dict"
   ]
  },
  {
   "cell_type": "code",
   "execution_count": 16,
   "metadata": {},
   "outputs": [
    {
     "name": "stdout",
     "output_type": "stream",
     "text": [
      "{'c': [3, 'None'], 'd': ['None', 4]}\n",
      "{'b': [2, 3], 'd': [4, 5]}\n"
     ]
    }
   ],
   "source": [
    "print(dictdiff(d1,d2))\n",
    "print(dictdiff(d2,d3))"
   ]
  },
  {
   "cell_type": "code",
   "execution_count": null,
   "metadata": {},
   "outputs": [],
   "source": []
  }
 ],
 "metadata": {
  "kernelspec": {
   "display_name": "Python 3",
   "language": "python",
   "name": "python3"
  },
  "language_info": {
   "codemirror_mode": {
    "name": "ipython",
    "version": 3
   },
   "file_extension": ".py",
   "mimetype": "text/x-python",
   "name": "python",
   "nbconvert_exporter": "python",
   "pygments_lexer": "ipython3",
   "version": "3.7.6"
  }
 },
 "nbformat": 4,
 "nbformat_minor": 4
}
